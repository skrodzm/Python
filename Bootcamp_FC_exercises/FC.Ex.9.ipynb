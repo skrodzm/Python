{
 "cells": [
  {
   "cell_type": "markdown",
   "metadata": {},
   "source": [
    "##### Using loops create patern below\n",
    "##### *\n",
    "##### * $\n",
    "##### * $ *\n",
    "##### * $ * $\n",
    "* $ * $ *\n",
    "* $ * $\n",
    "* $ *\n",
    "* $\n",
    "*"
   ]
  },
  {
   "cell_type": "code",
   "execution_count": 1,
   "metadata": {},
   "outputs": [
    {
     "name": "stdout",
     "output_type": "stream",
     "text": [
      "*\n",
      "* $\n",
      "* $ *\n",
      "* $ * $\n",
      "* $ * $ *\n",
      "* $ * $ \n",
      "* $ * \n",
      "* $ \n",
      "* \n",
      "\n"
     ]
    }
   ],
   "source": [
    "str = '* $ * $ *'\n",
    "\n",
    "def pattern(str):\n",
    "    \n",
    "    for index in range(0,len(str)):\n",
    "        if str[index] != ' ':\n",
    "            print(str[0:index +1])\n",
    "            \n",
    "    for index in reversed(range(0,len(str))):\n",
    "         if str[index] != ' ':\n",
    "            print(str[0:index])    \n",
    "       \n",
    "    \n",
    "    \n",
    "pattern(str)"
   ]
  },
  {
   "cell_type": "code",
   "execution_count": null,
   "metadata": {},
   "outputs": [],
   "source": []
  }
 ],
 "metadata": {
  "kernelspec": {
   "display_name": "Python 3",
   "language": "python",
   "name": "python3"
  },
  "language_info": {
   "codemirror_mode": {
    "name": "ipython",
    "version": 3
   },
   "file_extension": ".py",
   "mimetype": "text/x-python",
   "name": "python",
   "nbconvert_exporter": "python",
   "pygments_lexer": "ipython3",
   "version": "3.9.0"
  }
 },
 "nbformat": 4,
 "nbformat_minor": 4
}
