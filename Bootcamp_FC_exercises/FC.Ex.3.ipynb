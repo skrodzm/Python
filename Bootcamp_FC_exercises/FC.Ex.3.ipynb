{
 "cells": [
  {
   "cell_type": "markdown",
   "metadata": {},
   "source": [
    "###### Write a function that sorts a list of numbers in ascending order."
   ]
  },
  {
   "cell_type": "code",
   "execution_count": 1,
   "metadata": {},
   "outputs": [],
   "source": [
    "def sort_ascending(my_list):\n",
    "    ascending_list = []\n",
    "    \n",
    "    while my_list:\n",
    "        minimum = my_list[0]\n",
    "        for x in my_list:\n",
    "            if x < minimum:\n",
    "                minimum = x\n",
    "        ascending_list.append(minimum)\n",
    "        my_list.remove(minimum)\n",
    "    return print(ascending_list)"
   ]
  },
  {
   "cell_type": "code",
   "execution_count": 2,
   "metadata": {},
   "outputs": [
    {
     "name": "stdout",
     "output_type": "stream",
     "text": [
      "[1, 2, 3, 5, 6, 7, 10, 24, 54]\n"
     ]
    }
   ],
   "source": [
    "to_sort = [1,3,5,7,24,54,2,6,10]\n",
    "sort_ascending(to_sort)"
   ]
  }
 ],
 "metadata": {
  "kernelspec": {
   "display_name": "Python 3",
   "language": "python",
   "name": "python3"
  },
  "language_info": {
   "codemirror_mode": {
    "name": "ipython",
    "version": 3
   },
   "file_extension": ".py",
   "mimetype": "text/x-python",
   "name": "python",
   "nbconvert_exporter": "python",
   "pygments_lexer": "ipython3",
   "version": "3.9.0"
  }
 },
 "nbformat": 4,
 "nbformat_minor": 4
}
