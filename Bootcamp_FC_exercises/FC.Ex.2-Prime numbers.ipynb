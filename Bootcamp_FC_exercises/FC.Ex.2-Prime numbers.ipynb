{
 "cells": [
  {
   "cell_type": "markdown",
   "metadata": {},
   "source": [
    "###### Write a function that prints all the prime numbers smaller than the number which is a function argument."
   ]
  },
  {
   "cell_type": "code",
   "execution_count": 1,
   "metadata": {},
   "outputs": [],
   "source": [
    "def Smaller_Prime(number):\n",
    "    smaller_prime_list = []\n",
    "    \n",
    "    if number > 1:\n",
    "        for num in range(2, number):\n",
    "            for x in range (2, num):\n",
    "                if (num%x) == 0:\n",
    "                    break\n",
    "            else:\n",
    "                smaller_prime_list.append(num)\n",
    "    return print(smaller_prime_list)"
   ]
  },
  {
   "cell_type": "code",
   "execution_count": 2,
   "metadata": {},
   "outputs": [
    {
     "name": "stdout",
     "output_type": "stream",
     "text": [
      "[2, 3, 5, 7, 11, 13, 17, 19]\n"
     ]
    }
   ],
   "source": [
    "Smaller_Prime(20)"
   ]
  }
 ],
 "metadata": {
  "kernelspec": {
   "display_name": "Python 3",
   "language": "python",
   "name": "python3"
  },
  "language_info": {
   "codemirror_mode": {
    "name": "ipython",
    "version": 3
   },
   "file_extension": ".py",
   "mimetype": "text/x-python",
   "name": "python",
   "nbconvert_exporter": "python",
   "pygments_lexer": "ipython3",
   "version": "3.9.0"
  }
 },
 "nbformat": 4,
 "nbformat_minor": 4
}
