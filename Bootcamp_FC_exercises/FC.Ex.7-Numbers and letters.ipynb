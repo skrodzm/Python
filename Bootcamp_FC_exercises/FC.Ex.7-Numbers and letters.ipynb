{
 "cells": [
  {
   "cell_type": "markdown",
   "metadata": {},
   "source": [
    "##### Write a function that takes a string and returns information about how many letters and numbers are in the string."
   ]
  },
  {
   "cell_type": "code",
   "execution_count": 1,
   "metadata": {},
   "outputs": [],
   "source": [
    "def count_phrase(phrase):\n",
    "    letter = 0\n",
    "    number = 0\n",
    "    \n",
    "    for x in phrase:\n",
    "        if x.isalpha():\n",
    "            letter += 1\n",
    "        elif x.isdigit():\n",
    "            number += 1\n",
    "            \n",
    "    print(f'There is/are {letter} letters in the string.')\n",
    "    print(f'There is/are {number} number in the string.')"
   ]
  },
  {
   "cell_type": "code",
   "execution_count": 2,
   "metadata": {},
   "outputs": [
    {
     "name": "stdout",
     "output_type": "stream",
     "text": [
      "There is/are 11 letters in the string.\n",
      "There is/are 1 number in the string.\n"
     ]
    }
   ],
   "source": [
    "sentence = 'Alex has 2 cats.'\n",
    "count_phrase(sentence)"
   ]
  }
 ],
 "metadata": {
  "kernelspec": {
   "display_name": "Python 3",
   "language": "python",
   "name": "python3"
  },
  "language_info": {
   "codemirror_mode": {
    "name": "ipython",
    "version": 3
   },
   "file_extension": ".py",
   "mimetype": "text/x-python",
   "name": "python",
   "nbconvert_exporter": "python",
   "pygments_lexer": "ipython3",
   "version": "3.9.0"
  }
 },
 "nbformat": 4,
 "nbformat_minor": 4
}
