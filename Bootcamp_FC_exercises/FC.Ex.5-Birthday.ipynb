{
 "cells": [
  {
   "cell_type": "markdown",
   "metadata": {},
   "source": [
    "###### Create function that will return which birthday will celebrate people this year, born in years included in the list."
   ]
  },
  {
   "cell_type": "code",
   "execution_count": 1,
   "metadata": {},
   "outputs": [],
   "source": [
    "import datetime as dt\n",
    "\n",
    "birth_year = [1992, 2000, 2003, 1995]"
   ]
  },
  {
   "cell_type": "code",
   "execution_count": 2,
   "metadata": {},
   "outputs": [],
   "source": [
    "def  which_birthday(birth_year):\n",
    "\n",
    "    current_year = dt.date.today().year\n",
    "    how_old = []\n",
    "\n",
    "    for year in birth_year:\n",
    "        birthday = current_year - year\n",
    "        how_old.append(birthday)\n",
    "        \n",
    "    print(how_old)\n",
    "    "
   ]
  },
  {
   "cell_type": "code",
   "execution_count": 3,
   "metadata": {},
   "outputs": [
    {
     "name": "stdout",
     "output_type": "stream",
     "text": [
      "[29, 21, 18, 26]\n"
     ]
    }
   ],
   "source": [
    "which_birthday(birth_year)"
   ]
  }
 ],
 "metadata": {
  "kernelspec": {
   "display_name": "Python 3",
   "language": "python",
   "name": "python3"
  },
  "language_info": {
   "codemirror_mode": {
    "name": "ipython",
    "version": 3
   },
   "file_extension": ".py",
   "mimetype": "text/x-python",
   "name": "python",
   "nbconvert_exporter": "python",
   "pygments_lexer": "ipython3",
   "version": "3.9.0"
  }
 },
 "nbformat": 4,
 "nbformat_minor": 4
}
